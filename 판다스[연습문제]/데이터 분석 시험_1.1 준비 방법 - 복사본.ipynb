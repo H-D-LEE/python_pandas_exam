{
 "cells": [
  {
   "cell_type": "markdown",
   "id": "4fed0bb5",
   "metadata": {},
   "source": [
    "# 실기\n",
    "# 단답형\n",
    "\n",
    "# DataManim어플에서 랜덤 문제 확인\n",
    "# 작업 1유형\n",
    "\n",
    "# 전처리 100문제로 기본 함수 익히기 link\n",
    "\n",
    "# 작업 1유형 110문제 반복 문제풀이 link\n",
    "\n",
    "# 작업 2유형 20개 데이터셋 반복 문제풀이 link\n",
    "\n",
    "# 모르는 부분 단톡방에서 질문 link pwd : 카톡화면 참고\n",
    "\n",
    "# 작업 2유형\n",
    "\n",
    "# 캐글에서 기출 및 유사 유형 5문제 풀기 link\n",
    "\n",
    "# 캐글에 코드 공유 및 다른분들 코드 확인"
   ]
  },
  {
   "cell_type": "code",
   "execution_count": null,
   "id": "fadae53f",
   "metadata": {},
   "outputs": [],
   "source": []
  }
 ],
 "metadata": {
  "hide_input": false,
  "kernelspec": {
   "display_name": "Python 3 (ipykernel)",
   "language": "python",
   "name": "python3"
  },
  "language_info": {
   "codemirror_mode": {
    "name": "ipython",
    "version": 3
   },
   "file_extension": ".py",
   "mimetype": "text/x-python",
   "name": "python",
   "nbconvert_exporter": "python",
   "pygments_lexer": "ipython3",
   "version": "3.9.15"
  },
  "toc": {
   "base_numbering": 1,
   "nav_menu": {},
   "number_sections": true,
   "sideBar": true,
   "skip_h1_title": false,
   "title_cell": "Table of Contents",
   "title_sidebar": "Contents",
   "toc_cell": false,
   "toc_position": {},
   "toc_section_display": true,
   "toc_window_display": false
  },
  "varInspector": {
   "cols": {
    "lenName": 16,
    "lenType": 16,
    "lenVar": 40
   },
   "kernels_config": {
    "python": {
     "delete_cmd_postfix": "",
     "delete_cmd_prefix": "del ",
     "library": "var_list.py",
     "varRefreshCmd": "print(var_dic_list())"
    },
    "r": {
     "delete_cmd_postfix": ") ",
     "delete_cmd_prefix": "rm(",
     "library": "var_list.r",
     "varRefreshCmd": "cat(var_dic_list()) "
    }
   },
   "types_to_exclude": [
    "module",
    "function",
    "builtin_function_or_method",
    "instance",
    "_Feature"
   ],
   "window_display": false
  }
 },
 "nbformat": 4,
 "nbformat_minor": 5
}
