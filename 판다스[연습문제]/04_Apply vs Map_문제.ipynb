{
 "cells": [
  {
   "cell_type": "markdown",
   "id": "f232e53c",
   "metadata": {},
   "source": [
    "> 카드이용데이터 : https://www.kaggle.com/sakshigoyal7/credit-card-customers \n",
    "\n",
    "> DataUrl = ‘https://raw.githubusercontent.com/Datamanim/pandas/main/BankChurnersUp.csv’"
   ]
  },
  {
   "cell_type": "markdown",
   "id": "0b2bfc27",
   "metadata": {},
   "source": [
    "Question 56\n",
    "\n",
    "데이터를 로드하고 데이터 행과 열의 갯수를 출력하라"
   ]
  },
  {
   "cell_type": "code",
   "execution_count": 25,
   "id": "1f206bf0",
   "metadata": {
    "ExecuteTime": {
     "end_time": "2023-05-07T11:29:49.409732Z",
     "start_time": "2023-05-07T11:29:48.164861Z"
    }
   },
   "outputs": [
    {
     "data": {
      "text/html": [
       "<div>\n",
       "<style scoped>\n",
       "    .dataframe tbody tr th:only-of-type {\n",
       "        vertical-align: middle;\n",
       "    }\n",
       "\n",
       "    .dataframe tbody tr th {\n",
       "        vertical-align: top;\n",
       "    }\n",
       "\n",
       "    .dataframe thead th {\n",
       "        text-align: right;\n",
       "    }\n",
       "</style>\n",
       "<table border=\"1\" class=\"dataframe\">\n",
       "  <thead>\n",
       "    <tr style=\"text-align: right;\">\n",
       "      <th></th>\n",
       "      <th>CLIENTNUM</th>\n",
       "      <th>Attrition_Flag</th>\n",
       "      <th>Customer_Age</th>\n",
       "      <th>Gender</th>\n",
       "      <th>Dependent_count</th>\n",
       "      <th>Education_Level</th>\n",
       "      <th>Marital_Status</th>\n",
       "      <th>Income_Category</th>\n",
       "      <th>Card_Category</th>\n",
       "      <th>Months_on_book</th>\n",
       "      <th>Total_Relationship_Count</th>\n",
       "      <th>Months_Inactive_12_mon</th>\n",
       "      <th>Contacts_Count_12_mon</th>\n",
       "      <th>Credit_Limit</th>\n",
       "      <th>Total_Revolving_Bal</th>\n",
       "      <th>Avg_Open_To_Buy</th>\n",
       "      <th>Total_Amt_Chng_Q4_Q1</th>\n",
       "      <th>Total_Trans_Amt</th>\n",
       "    </tr>\n",
       "  </thead>\n",
       "  <tbody>\n",
       "    <tr>\n",
       "      <th>0</th>\n",
       "      <td>768805383</td>\n",
       "      <td>Existing Customer</td>\n",
       "      <td>45</td>\n",
       "      <td>M</td>\n",
       "      <td>3</td>\n",
       "      <td>High School</td>\n",
       "      <td>Married</td>\n",
       "      <td>$60K - $80K</td>\n",
       "      <td>Blue</td>\n",
       "      <td>39</td>\n",
       "      <td>5</td>\n",
       "      <td>1</td>\n",
       "      <td>3</td>\n",
       "      <td>12691.0</td>\n",
       "      <td>777</td>\n",
       "      <td>11914.0</td>\n",
       "      <td>1.335</td>\n",
       "      <td>1144</td>\n",
       "    </tr>\n",
       "    <tr>\n",
       "      <th>1</th>\n",
       "      <td>818770008</td>\n",
       "      <td>Existing Customer</td>\n",
       "      <td>49</td>\n",
       "      <td>F</td>\n",
       "      <td>5</td>\n",
       "      <td>Graduate</td>\n",
       "      <td>Single</td>\n",
       "      <td>Less than $40K</td>\n",
       "      <td>Blue</td>\n",
       "      <td>44</td>\n",
       "      <td>6</td>\n",
       "      <td>1</td>\n",
       "      <td>2</td>\n",
       "      <td>8256.0</td>\n",
       "      <td>864</td>\n",
       "      <td>7392.0</td>\n",
       "      <td>1.541</td>\n",
       "      <td>1291</td>\n",
       "    </tr>\n",
       "    <tr>\n",
       "      <th>2</th>\n",
       "      <td>713982108</td>\n",
       "      <td>Existing Customer</td>\n",
       "      <td>51</td>\n",
       "      <td>M</td>\n",
       "      <td>3</td>\n",
       "      <td>Graduate</td>\n",
       "      <td>Married</td>\n",
       "      <td>$80K - $120K</td>\n",
       "      <td>Blue</td>\n",
       "      <td>36</td>\n",
       "      <td>4</td>\n",
       "      <td>1</td>\n",
       "      <td>0</td>\n",
       "      <td>3418.0</td>\n",
       "      <td>0</td>\n",
       "      <td>3418.0</td>\n",
       "      <td>2.594</td>\n",
       "      <td>1887</td>\n",
       "    </tr>\n",
       "    <tr>\n",
       "      <th>3</th>\n",
       "      <td>769911858</td>\n",
       "      <td>Existing Customer</td>\n",
       "      <td>40</td>\n",
       "      <td>F</td>\n",
       "      <td>4</td>\n",
       "      <td>High School</td>\n",
       "      <td>Unknown</td>\n",
       "      <td>Less than $40K</td>\n",
       "      <td>Blue</td>\n",
       "      <td>34</td>\n",
       "      <td>3</td>\n",
       "      <td>4</td>\n",
       "      <td>1</td>\n",
       "      <td>3313.0</td>\n",
       "      <td>2517</td>\n",
       "      <td>796.0</td>\n",
       "      <td>1.405</td>\n",
       "      <td>1171</td>\n",
       "    </tr>\n",
       "    <tr>\n",
       "      <th>4</th>\n",
       "      <td>709106358</td>\n",
       "      <td>Existing Customer</td>\n",
       "      <td>40</td>\n",
       "      <td>M</td>\n",
       "      <td>3</td>\n",
       "      <td>Uneducated</td>\n",
       "      <td>Married</td>\n",
       "      <td>$60K - $80K</td>\n",
       "      <td>Blue</td>\n",
       "      <td>21</td>\n",
       "      <td>5</td>\n",
       "      <td>1</td>\n",
       "      <td>0</td>\n",
       "      <td>4716.0</td>\n",
       "      <td>0</td>\n",
       "      <td>4716.0</td>\n",
       "      <td>2.175</td>\n",
       "      <td>816</td>\n",
       "    </tr>\n",
       "    <tr>\n",
       "      <th>...</th>\n",
       "      <td>...</td>\n",
       "      <td>...</td>\n",
       "      <td>...</td>\n",
       "      <td>...</td>\n",
       "      <td>...</td>\n",
       "      <td>...</td>\n",
       "      <td>...</td>\n",
       "      <td>...</td>\n",
       "      <td>...</td>\n",
       "      <td>...</td>\n",
       "      <td>...</td>\n",
       "      <td>...</td>\n",
       "      <td>...</td>\n",
       "      <td>...</td>\n",
       "      <td>...</td>\n",
       "      <td>...</td>\n",
       "      <td>...</td>\n",
       "      <td>...</td>\n",
       "    </tr>\n",
       "    <tr>\n",
       "      <th>10122</th>\n",
       "      <td>772366833</td>\n",
       "      <td>Existing Customer</td>\n",
       "      <td>50</td>\n",
       "      <td>M</td>\n",
       "      <td>2</td>\n",
       "      <td>Graduate</td>\n",
       "      <td>Single</td>\n",
       "      <td>$40K - $60K</td>\n",
       "      <td>Blue</td>\n",
       "      <td>40</td>\n",
       "      <td>3</td>\n",
       "      <td>2</td>\n",
       "      <td>3</td>\n",
       "      <td>4003.0</td>\n",
       "      <td>1851</td>\n",
       "      <td>2152.0</td>\n",
       "      <td>0.703</td>\n",
       "      <td>15476</td>\n",
       "    </tr>\n",
       "    <tr>\n",
       "      <th>10123</th>\n",
       "      <td>710638233</td>\n",
       "      <td>Attrited Customer</td>\n",
       "      <td>41</td>\n",
       "      <td>M</td>\n",
       "      <td>2</td>\n",
       "      <td>Unknown</td>\n",
       "      <td>Divorced</td>\n",
       "      <td>$40K - $60K</td>\n",
       "      <td>Blue</td>\n",
       "      <td>25</td>\n",
       "      <td>4</td>\n",
       "      <td>2</td>\n",
       "      <td>3</td>\n",
       "      <td>4277.0</td>\n",
       "      <td>2186</td>\n",
       "      <td>2091.0</td>\n",
       "      <td>0.804</td>\n",
       "      <td>8764</td>\n",
       "    </tr>\n",
       "    <tr>\n",
       "      <th>10124</th>\n",
       "      <td>716506083</td>\n",
       "      <td>Attrited Customer</td>\n",
       "      <td>44</td>\n",
       "      <td>F</td>\n",
       "      <td>1</td>\n",
       "      <td>High School</td>\n",
       "      <td>Married</td>\n",
       "      <td>Less than $40K</td>\n",
       "      <td>Blue</td>\n",
       "      <td>36</td>\n",
       "      <td>5</td>\n",
       "      <td>3</td>\n",
       "      <td>4</td>\n",
       "      <td>5409.0</td>\n",
       "      <td>0</td>\n",
       "      <td>5409.0</td>\n",
       "      <td>0.819</td>\n",
       "      <td>10291</td>\n",
       "    </tr>\n",
       "    <tr>\n",
       "      <th>10125</th>\n",
       "      <td>717406983</td>\n",
       "      <td>Attrited Customer</td>\n",
       "      <td>30</td>\n",
       "      <td>M</td>\n",
       "      <td>2</td>\n",
       "      <td>Graduate</td>\n",
       "      <td>Unknown</td>\n",
       "      <td>$40K - $60K</td>\n",
       "      <td>Blue</td>\n",
       "      <td>36</td>\n",
       "      <td>4</td>\n",
       "      <td>3</td>\n",
       "      <td>3</td>\n",
       "      <td>5281.0</td>\n",
       "      <td>0</td>\n",
       "      <td>5281.0</td>\n",
       "      <td>0.535</td>\n",
       "      <td>8395</td>\n",
       "    </tr>\n",
       "    <tr>\n",
       "      <th>10126</th>\n",
       "      <td>714337233</td>\n",
       "      <td>Attrited Customer</td>\n",
       "      <td>43</td>\n",
       "      <td>F</td>\n",
       "      <td>2</td>\n",
       "      <td>Graduate</td>\n",
       "      <td>Married</td>\n",
       "      <td>Less than $40K</td>\n",
       "      <td>Silver</td>\n",
       "      <td>25</td>\n",
       "      <td>6</td>\n",
       "      <td>2</td>\n",
       "      <td>4</td>\n",
       "      <td>10388.0</td>\n",
       "      <td>1961</td>\n",
       "      <td>8427.0</td>\n",
       "      <td>0.703</td>\n",
       "      <td>10294</td>\n",
       "    </tr>\n",
       "  </tbody>\n",
       "</table>\n",
       "<p>10127 rows × 18 columns</p>\n",
       "</div>"
      ],
      "text/plain": [
       "       CLIENTNUM     Attrition_Flag  Customer_Age Gender  Dependent_count  \\\n",
       "0      768805383  Existing Customer            45      M                3   \n",
       "1      818770008  Existing Customer            49      F                5   \n",
       "2      713982108  Existing Customer            51      M                3   \n",
       "3      769911858  Existing Customer            40      F                4   \n",
       "4      709106358  Existing Customer            40      M                3   \n",
       "...          ...                ...           ...    ...              ...   \n",
       "10122  772366833  Existing Customer            50      M                2   \n",
       "10123  710638233  Attrited Customer            41      M                2   \n",
       "10124  716506083  Attrited Customer            44      F                1   \n",
       "10125  717406983  Attrited Customer            30      M                2   \n",
       "10126  714337233  Attrited Customer            43      F                2   \n",
       "\n",
       "      Education_Level Marital_Status Income_Category Card_Category  \\\n",
       "0         High School        Married     $60K - $80K          Blue   \n",
       "1            Graduate         Single  Less than $40K          Blue   \n",
       "2            Graduate        Married    $80K - $120K          Blue   \n",
       "3         High School        Unknown  Less than $40K          Blue   \n",
       "4          Uneducated        Married     $60K - $80K          Blue   \n",
       "...               ...            ...             ...           ...   \n",
       "10122        Graduate         Single     $40K - $60K          Blue   \n",
       "10123         Unknown       Divorced     $40K - $60K          Blue   \n",
       "10124     High School        Married  Less than $40K          Blue   \n",
       "10125        Graduate        Unknown     $40K - $60K          Blue   \n",
       "10126        Graduate        Married  Less than $40K        Silver   \n",
       "\n",
       "       Months_on_book  Total_Relationship_Count  Months_Inactive_12_mon  \\\n",
       "0                  39                         5                       1   \n",
       "1                  44                         6                       1   \n",
       "2                  36                         4                       1   \n",
       "3                  34                         3                       4   \n",
       "4                  21                         5                       1   \n",
       "...               ...                       ...                     ...   \n",
       "10122              40                         3                       2   \n",
       "10123              25                         4                       2   \n",
       "10124              36                         5                       3   \n",
       "10125              36                         4                       3   \n",
       "10126              25                         6                       2   \n",
       "\n",
       "       Contacts_Count_12_mon  Credit_Limit  Total_Revolving_Bal  \\\n",
       "0                          3       12691.0                  777   \n",
       "1                          2        8256.0                  864   \n",
       "2                          0        3418.0                    0   \n",
       "3                          1        3313.0                 2517   \n",
       "4                          0        4716.0                    0   \n",
       "...                      ...           ...                  ...   \n",
       "10122                      3        4003.0                 1851   \n",
       "10123                      3        4277.0                 2186   \n",
       "10124                      4        5409.0                    0   \n",
       "10125                      3        5281.0                    0   \n",
       "10126                      4       10388.0                 1961   \n",
       "\n",
       "       Avg_Open_To_Buy  Total_Amt_Chng_Q4_Q1  Total_Trans_Amt  \n",
       "0              11914.0                 1.335             1144  \n",
       "1               7392.0                 1.541             1291  \n",
       "2               3418.0                 2.594             1887  \n",
       "3                796.0                 1.405             1171  \n",
       "4               4716.0                 2.175              816  \n",
       "...                ...                   ...              ...  \n",
       "10122           2152.0                 0.703            15476  \n",
       "10123           2091.0                 0.804             8764  \n",
       "10124           5409.0                 0.819            10291  \n",
       "10125           5281.0                 0.535             8395  \n",
       "10126           8427.0                 0.703            10294  \n",
       "\n",
       "[10127 rows x 18 columns]"
      ]
     },
     "metadata": {},
     "output_type": "display_data"
    },
    {
     "data": {
      "text/plain": [
       "(10127, 18)"
      ]
     },
     "execution_count": 25,
     "metadata": {},
     "output_type": "execute_result"
    }
   ],
   "source": [
    "import pandas as pd\n",
    "\n",
    "df = pd.read_csv('https://raw.githubusercontent.com/Datamanim/pandas/main/BankChurnersUp.csv',index_col=0)\n",
    "Ans = df.shape\n",
    "display(df)\n",
    "Ans"
   ]
  },
  {
   "cell_type": "markdown",
   "id": "080549f0",
   "metadata": {},
   "source": [
    "Question 57\n",
    "\n",
    "Income_Category의 카테고리를 map 함수를 이용하여 다음과 같이 변경하여 newIncome 컬럼에 매핑하라 Unknown : N\n",
    "Less than $40K : a\n",
    "$40K - $60K : b\n",
    "$60K - $80K : c\n",
    "$80K - $120K : d\n",
    "$120K +’ : e"
   ]
  },
  {
   "cell_type": "code",
   "execution_count": 15,
   "id": "dcc34ea7",
   "metadata": {
    "ExecuteTime": {
     "end_time": "2023-05-07T11:30:08.561912Z",
     "start_time": "2023-05-07T11:30:08.539883Z"
    }
   },
   "outputs": [
    {
     "data": {
      "text/plain": [
       "0        c\n",
       "1        a\n",
       "2        d\n",
       "3        a\n",
       "4        c\n",
       "        ..\n",
       "10122    b\n",
       "10123    b\n",
       "10124    a\n",
       "10125    b\n",
       "10126    a\n",
       "Name: newIncome, Length: 10127, dtype: object"
      ]
     },
     "metadata": {},
     "output_type": "display_data"
    }
   ],
   "source": [
    "dic = {\n",
    "    'Unknown' : 'N', \n",
    "    'Less than $40K' : 'a', \n",
    "    '$40K - $60K' : 'b', \n",
    "    '$60K - $80K' : 'c', \n",
    "    '$80K - $120K' : 'd', \n",
    "    '$120K +' : 'e' \n",
    "}\n",
    "df['newIncome'] = df.Income_Category.map(lambda x:dic[x])\n",
    "income_ = df['newIncome']\n",
    "display(income_)"
   ]
  },
  {
   "cell_type": "markdown",
   "id": "66b884e1",
   "metadata": {},
   "source": [
    "Question 58\n",
    "\n",
    "Income_Category의 카테고리를 apply 함수를 이용하여 다음과 같이 변경하여 newIncome 컬럼에 매핑하라 Unknown : N\n",
    "Less than $40K : a\n",
    "$40K - $60K : b\n",
    "$60K - $80K : c\n",
    "$80K - $120K : d\n",
    "$120K +’ : e"
   ]
  },
  {
   "cell_type": "code",
   "execution_count": 17,
   "id": "a844b50c",
   "metadata": {
    "ExecuteTime": {
     "end_time": "2023-05-07T11:30:26.675217Z",
     "start_time": "2023-05-07T11:30:26.646218Z"
    }
   },
   "outputs": [
    {
     "data": {
      "text/plain": [
       "0        c\n",
       "1        a\n",
       "2        d\n",
       "3        a\n",
       "4        c\n",
       "        ..\n",
       "10122    b\n",
       "10123    b\n",
       "10124    a\n",
       "10125    b\n",
       "10126    a\n",
       "Name: newIncome, Length: 10127, dtype: object"
      ]
     },
     "metadata": {},
     "output_type": "display_data"
    }
   ],
   "source": [
    "def changeCategory(x) :\n",
    "    if x == 'Unknown' :\n",
    "        return 'N'\n",
    "    elif x == 'Less than $40K' :\n",
    "        return 'a'\n",
    "    elif x == '$40K - $60K' :\n",
    "        return 'b'\n",
    "    elif x == '$60K - $80K' :\n",
    "        return 'c'\n",
    "    elif x == '$80K - $120K' :\n",
    "        return 'd'\n",
    "    elif x == '$120K +' :\n",
    "        return 'e'\n",
    "\n",
    "df['newIncome'] = df.Income_Category.apply(changeCategory)\n",
    "income_ = df['newIncome']\n",
    "display(income_)"
   ]
  },
  {
   "cell_type": "markdown",
   "id": "be0edc4e",
   "metadata": {},
   "source": [
    "Question 59\n",
    "\n",
    "Customer_Age의 값을 이용하여 나이 구간을 AgeState 컬럼으로 정의하라. (0~9 : 0 , 10~19 :10 , 20~29 :20 … 각 구간의 빈도수를 출력하라"
   ]
  },
  {
   "cell_type": "code",
   "execution_count": 23,
   "id": "620691ef",
   "metadata": {
    "ExecuteTime": {
     "end_time": "2023-05-07T11:30:43.835210Z",
     "start_time": "2023-05-07T11:30:43.812209Z"
    }
   },
   "outputs": [
    {
     "data": {
      "text/plain": [
       "AgeState\n",
       "20     195\n",
       "30    1841\n",
       "40    4561\n",
       "50    2998\n",
       "60     530\n",
       "70       2\n",
       "Name: count, dtype: int64"
      ]
     },
     "metadata": {},
     "output_type": "display_data"
    }
   ],
   "source": [
    "df['AgeState'] = df.Customer_Age.map(lambda x: x//10 *10)\n",
    "CA = df['AgeState'].value_counts().sort_index()\n",
    "display(CA)"
   ]
  },
  {
   "cell_type": "markdown",
   "id": "bd1f4af3",
   "metadata": {},
   "source": [
    "Question 60\n",
    "\n",
    "Education_Level의 값중 Graduate단어가 포함되는 값은 1 그렇지 않은 경우에는 0으로 변경하여 newEduLevel 컬럼을 정의하고 빈도수를 출력하라"
   ]
  },
  {
   "cell_type": "code",
   "execution_count": 33,
   "id": "c56d2f4b",
   "metadata": {
    "ExecuteTime": {
     "end_time": "2023-05-07T11:31:11.878378Z",
     "start_time": "2023-05-07T11:31:11.852349Z"
    }
   },
   "outputs": [
    {
     "data": {
      "text/plain": [
       "newEduLevel\n",
       "0    6483\n",
       "1    3644\n",
       "Name: count, dtype: int64"
      ]
     },
     "metadata": {},
     "output_type": "display_data"
    }
   ],
   "source": [
    "df['newEduLevel'] = df.Education_Level.map(lambda x: 1 if 'Graduate' in x else 0) \n",
    "new_edu_level = df['newEduLevel'].value_counts()\n",
    "display(new_edu_level)"
   ]
  },
  {
   "cell_type": "markdown",
   "id": "a31849d5",
   "metadata": {},
   "source": [
    "Question 61\n",
    "\n",
    "Credit_Limit 컬럼값이 4500 이상인 경우 1 그외의 경우에는 모두 0으로 하는 newLimit 정의하라. newLimit 각 값들의 빈도수를 출력하라"
   ]
  },
  {
   "cell_type": "code",
   "execution_count": 35,
   "id": "0f18a89f",
   "metadata": {
    "ExecuteTime": {
     "end_time": "2023-05-07T11:31:29.558947Z",
     "start_time": "2023-05-07T11:31:29.530952Z"
    }
   },
   "outputs": [
    {
     "data": {
      "text/plain": [
       "newLimit\n",
       "1    5096\n",
       "0    5031\n",
       "Name: count, dtype: int64"
      ]
     },
     "metadata": {},
     "output_type": "display_data"
    }
   ],
   "source": [
    "df['newLimit'] = df.Credit_Limit.map(lambda x: 1 if x >= 4500 else 0)\n",
    "new_limit = df['newLimit'].value_counts()\n",
    "display(new_limit)"
   ]
  },
  {
   "cell_type": "markdown",
   "id": "72310e54",
   "metadata": {},
   "source": [
    "Question 62\n",
    "\n",
    "Marital_Status 컬럼값이 Married 이고 Card_Category 컬럼의 값이 Platinum인 경우 1 그외의 경우에는 모두 0으로 하는 newState컬럼을 정의하라. newState의 각 값들의 빈도수를 출력하라"
   ]
  },
  {
   "cell_type": "code",
   "execution_count": 41,
   "id": "8b2850ef",
   "metadata": {
    "ExecuteTime": {
     "end_time": "2023-05-07T11:31:52.274187Z",
     "start_time": "2023-05-07T11:31:52.035191Z"
    }
   },
   "outputs": [
    {
     "data": {
      "text/plain": [
       "newState\n",
       "0    10120\n",
       "1        7\n",
       "Name: count, dtype: int64"
      ]
     },
     "metadata": {},
     "output_type": "display_data"
    }
   ],
   "source": [
    "def check(x) :\n",
    "    if x.Marital_Status == 'Married' and x.Card_Category == 'Platinum' :\n",
    "        return 1\n",
    "    else :\n",
    "        return 0\n",
    "\n",
    "df['newState'] = df.apply(check, axis=1)\n",
    "MS = df['newState'].value_counts()\n",
    "display(MS)"
   ]
  },
  {
   "cell_type": "markdown",
   "id": "938098f3",
   "metadata": {},
   "source": [
    "Question 63\n",
    "\n",
    "Gender 컬럼값 M인 경우 male F인 경우 female로 값을 변경하여 Gender 컬럼에 새롭게 정의하라. 각 value의 빈도를 출력하라"
   ]
  },
  {
   "cell_type": "code",
   "execution_count": 43,
   "id": "414c8657",
   "metadata": {
    "ExecuteTime": {
     "end_time": "2023-05-07T12:04:46.379791Z",
     "start_time": "2023-05-07T12:04:45.828644Z"
    }
   },
   "outputs": [
    {
     "data": {
      "text/plain": [
       "Gender\n",
       "female    5358\n",
       "male      4769\n",
       "Name: count, dtype: int64"
      ]
     },
     "metadata": {},
     "output_type": "display_data"
    }
   ],
   "source": [
    "def changeGender(x):\n",
    "    if x =='M':\n",
    "        return 'male'\n",
    "    else:\n",
    "        return 'female'\n",
    "        \n",
    "df['Gender'] = df.Gender.apply(changeGender)\n",
    "gender = df['Gender'].value_counts()\n",
    "display(gender)"
   ]
  },
  {
   "cell_type": "code",
   "execution_count": null,
   "id": "400c50b2-82c3-45d1-b8bf-d59eb5cbe582",
   "metadata": {},
   "outputs": [],
   "source": []
  }
 ],
 "metadata": {
  "hide_input": false,
  "kernelspec": {
   "display_name": "Python 3 (ipykernel)",
   "language": "python",
   "name": "python3"
  },
  "language_info": {
   "codemirror_mode": {
    "name": "ipython",
    "version": 3
   },
   "file_extension": ".py",
   "mimetype": "text/x-python",
   "name": "python",
   "nbconvert_exporter": "python",
   "pygments_lexer": "ipython3",
   "version": "3.12.4"
  },
  "toc": {
   "base_numbering": 1,
   "nav_menu": {},
   "number_sections": true,
   "sideBar": true,
   "skip_h1_title": false,
   "title_cell": "Table of Contents",
   "title_sidebar": "Contents",
   "toc_cell": false,
   "toc_position": {},
   "toc_section_display": true,
   "toc_window_display": false
  },
  "varInspector": {
   "cols": {
    "lenName": 16,
    "lenType": 16,
    "lenVar": 40
   },
   "kernels_config": {
    "python": {
     "delete_cmd_postfix": "",
     "delete_cmd_prefix": "del ",
     "library": "var_list.py",
     "varRefreshCmd": "print(var_dic_list())"
    },
    "r": {
     "delete_cmd_postfix": ") ",
     "delete_cmd_prefix": "rm(",
     "library": "var_list.r",
     "varRefreshCmd": "cat(var_dic_list()) "
    }
   },
   "types_to_exclude": [
    "module",
    "function",
    "builtin_function_or_method",
    "instance",
    "_Feature"
   ],
   "window_display": false
  }
 },
 "nbformat": 4,
 "nbformat_minor": 5
}
