{
 "cells": [
  {
   "cell_type": "code",
   "execution_count": 2,
   "id": "e2cecdb1",
   "metadata": {},
   "outputs": [],
   "source": [
    "# df.iloc[:,::2]"
   ]
  },
  {
   "cell_type": "code",
   "execution_count": null,
   "id": "357b72f1",
   "metadata": {},
   "outputs": [],
   "source": [
    "df.iloc[행:,렬::2]"
   ]
  }
 ],
 "metadata": {
  "kernelspec": {
   "display_name": "Python 3 (ipykernel)",
   "language": "python",
   "name": "python3"
  },
  "language_info": {
   "codemirror_mode": {
    "name": "ipython",
    "version": 3
   },
   "file_extension": ".py",
   "mimetype": "text/x-python",
   "name": "python",
   "nbconvert_exporter": "python",
   "pygments_lexer": "ipython3",
   "version": "3.10.9"
  }
 },
 "nbformat": 4,
 "nbformat_minor": 5
}
